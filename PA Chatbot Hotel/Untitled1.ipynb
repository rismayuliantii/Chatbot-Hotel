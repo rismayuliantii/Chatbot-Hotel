{
  "nbformat": 4,
  "nbformat_minor": 0,
  "metadata": {
    "colab": {
      "provenance": []
    },
    "kernelspec": {
      "name": "python3",
      "display_name": "Python 3"
    },
    "language_info": {
      "name": "python"
    }
  },
  "cells": [
    {
      "cell_type": "code",
      "execution_count": 12,
      "metadata": {
        "colab": {
          "base_uri": "https://localhost:8080/"
        },
        "id": "8S6-rC0QLt75",
        "outputId": "f0135237-5f0f-4b02-d4dc-78fa886a88a7"
      },
      "outputs": [
        {
          "output_type": "stream",
          "name": "stderr",
          "text": [
            "[nltk_data] Downloading package punkt to /root/nltk_data...\n",
            "[nltk_data]   Unzipping tokenizers/punkt.zip.\n"
          ]
        },
        {
          "output_type": "execute_result",
          "data": {
            "text/plain": [
              "True"
            ]
          },
          "metadata": {},
          "execution_count": 12
        }
      ],
      "source": [
        "import json\n",
        "import nltk\n",
        "from nltk.tokenize import word_tokenize\n",
        "from sklearn.feature_extraction.text import TfidfVectorizer\n",
        "from sklearn.metrics.pairwise import cosine_similarity\n",
        "import nltk\n",
        "nltk.download('punkt')\n"
      ]
    },
    {
      "cell_type": "code",
      "source": [
        "\n",
        "# Load data\n",
        "with open('daftar_hotel_di_kota_bandung.json') as f:\n",
        "    data = json.load(f)"
      ],
      "metadata": {
        "id": "ZvW122poL_LK"
      },
      "execution_count": 2,
      "outputs": []
    },
    {
      "cell_type": "code",
      "source": [
        "# Ekstraksi fitur\n",
        "features = ['kategori_hotel', 'klasifikasi_hotel', 'rating_hotel', 'fasilitas']\n"
      ],
      "metadata": {
        "id": "W6ALfgYjMNix"
      },
      "execution_count": 3,
      "outputs": []
    },
    {
      "cell_type": "code",
      "source": [
        "# Gabung fitur-fitur teks menjadi satu teks\n",
        "def combine_features(row):\n",
        "    return ' '.join([str(row[feature]) for feature in features])\n"
      ],
      "metadata": {
        "id": "HBHCuJ26MNlL"
      },
      "execution_count": 4,
      "outputs": []
    },
    {
      "cell_type": "code",
      "source": [
        "# Buat matriks fitur\n",
        "tfidf = TfidfVectorizer()\n",
        "feature_matrix = tfidf.fit_transform([combine_features(row) for row in data])\n"
      ],
      "metadata": {
        "id": "Epg-YL9_MNnr"
      },
      "execution_count": 5,
      "outputs": []
    },
    {
      "cell_type": "code",
      "source": [
        "# Fungsi untuk merekomendasikan hotel\n",
        "def recommend_hotels(user_preference, num_recommendations=3):\n",
        "    # Ekstraksi fitur dari preferensi pengguna\n",
        "    user_feature_matrix = tfidf.transform([user_preference])\n",
        "\n",
        "    # Hitung kemiripan antara preferensi pengguna dengan setiap hotel\n",
        "    similarities = cosine_similarity(user_feature_matrix, feature_matrix)\n",
        "\n",
        "    # Urutkan indeks hotel berdasarkan kemiripan\n",
        "    hotel_indices = similarities.argsort()[0][::-1][:num_recommendations]\n",
        "\n",
        "    # Ambil data hotel yang direkomendasikan\n",
        "    recommended_hotels = [data[idx] for idx in hotel_indices]\n",
        "\n",
        "    return recommended_hotels"
      ],
      "metadata": {
        "id": "76xuUrXGMNqN"
      },
      "execution_count": 6,
      "outputs": []
    },
    {
      "cell_type": "code",
      "source": [
        "# Interaksi dengan pengguna\n",
        "def main():\n",
        "    print(\"Selamat datang di layanan rekomendasi hotel!\")\n",
        "    user_input = input(\"Silakan berikan preferensi hotel Anda dalam satu kalimat: \")\n",
        "\n",
        "    # Tokenisasi kalimat pengguna\n",
        "    tokens = word_tokenize(user_input.lower())\n",
        "\n",
        "    # Identifikasi preferensi pengguna\n",
        "    user_preference = {\n",
        "        'kategori_hotel': ' '.join([token for token in tokens if token in ['bintang', 'bintangnya']]),\n",
        "        'klasifikasi_hotel': ' '.join([token for token in tokens if token in ['bisnis', 'liburan']]),\n",
        "        'rating_hotel': 0,\n",
        "        'fasilitas': ' '.join([token for token in tokens if token not in ['bintang', 'bintangnya', 'bisnis', 'liburan']])\n",
        "    }\n",
        "\n",
        "    recommended_hotels = recommend_hotels(user_input)\n",
        "\n",
        "    print(\"\\nBerikut adalah rekomendasi hotel untuk Anda:\")\n",
        "    for idx, hotel in enumerate(recommended_hotels, 1):\n",
        "        print(f\"{idx}. {hotel['nama_hotel']} ({hotel['kategori_hotel']}, {hotel['klasifikasi_hotel']})\")\n",
        "        print(f\"   Rating: {hotel['rating_hotel']}\")\n",
        "        print(f\"   Alamat: {hotel['alamat']}\")\n",
        "        print(f\"   Harga: Rp {hotel['range_harga']['min']:,} - Rp {hotel['range_harga']['max']:,}\")\n",
        "        print(f\"   Fasilitas: {', '.join(hotel['fasilitas'])}\")\n",
        "        print()\n",
        "\n",
        "if __name__ == \"__main__\":\n",
        "    main()"
      ],
      "metadata": {
        "colab": {
          "base_uri": "https://localhost:8080/"
        },
        "id": "pm-5L_N9MNsZ",
        "outputId": "aed519cf-f5a9-4fde-f803-4be1b953290b"
      },
      "execution_count": 14,
      "outputs": [
        {
          "output_type": "stream",
          "name": "stdout",
          "text": [
            "Selamat datang di layanan rekomendasi hotel!\n",
            "Silakan berikan preferensi hotel Anda dalam satu kalimat: klasifikasi hotel \n",
            "\n",
            "Berikut adalah rekomendasi hotel untuk Anda:\n",
            "1. NEW-B HOTEL (BINTANG 2, HOTEL)\n",
            "   Rating: 3.8\n",
            "   Alamat: JL. SUPRATMAN NO.23 - CIHAPIT - KEC. BANDUNG WETAN - KOTA BANDUNG - JAWA\n",
            "  BARAT 40122\n",
            "   Harga: Rp 199,075 - Rp 150,313\n",
            "   Fasilitas: Free Wifi, AC, Televisi\n",
            "\n",
            "2. DPALMA HOTEL (BINTANG 2, HOTEL)\n",
            "   Rating: 4.1\n",
            "   Alamat: JL. GATOT SUBROTO NO.41 - MALABAR - KEC. LENGKONG - KOTA BANDUNG - JAWA\n",
            "  BARAT 40262\n",
            "   Harga: Rp 161,456 - Rp 122,670\n",
            "   Fasilitas: Free Wifi, AC, Televisi\n",
            "\n",
            "3. IBIS BUDGET BANDUNG ASIA AFRIKA (BINTANG 2, HOTEL)\n",
            "   Rating: 4.9\n",
            "   Alamat: JL. ASIA AFRIKA NO.128 - PALEDANG - KEC. LENGKONG - KOTA BANDUNG - JAWA\n",
            "  BARAT 40261\n",
            "   Harga: Rp 104,478 - Rp 181,919\n",
            "   Fasilitas: Free Wifi, AC, Televisi\n",
            "\n"
          ]
        }
      ]
    },
    {
      "cell_type": "code",
      "source": [],
      "metadata": {
        "id": "kB23P2WsMNu3"
      },
      "execution_count": null,
      "outputs": []
    },
    {
      "cell_type": "code",
      "source": [],
      "metadata": {
        "id": "Zk-Bxm9MMNxU"
      },
      "execution_count": null,
      "outputs": []
    },
    {
      "cell_type": "code",
      "source": [],
      "metadata": {
        "id": "SZvMdFpNMNzp"
      },
      "execution_count": null,
      "outputs": []
    },
    {
      "cell_type": "code",
      "source": [],
      "metadata": {
        "id": "1joj40jHMN2d"
      },
      "execution_count": null,
      "outputs": []
    },
    {
      "cell_type": "code",
      "source": [],
      "metadata": {
        "id": "6Vj_NuCgMN4m"
      },
      "execution_count": null,
      "outputs": []
    },
    {
      "cell_type": "code",
      "source": [],
      "metadata": {
        "id": "jooXBQ72MN6_"
      },
      "execution_count": null,
      "outputs": []
    }
  ]
}